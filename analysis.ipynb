{
 "cells": [
  {
   "cell_type": "code",
   "execution_count": null,
   "metadata": {},
   "outputs": [],
   "source": []
  },
  {
   "attachments": {},
   "cell_type": "markdown",
   "metadata": {},
   "source": [
    "Twitter is a platform which brings information from all over the globe in a single click of our phone.\n",
    "It also allows those from diverse backgrounds and demographics to voice their opinion on this information.\n",
    "While a group of people have positive feedback on a particular topic, some people also have negative feedback\n",
    "on the same topic. Sentiment analysis analyzes the sentiment of the tweets and classifies the sentiments that\n",
    "are expressed in the text. It uses natural language processing and machine learning algorithms to classify tweets\n",
    "automatically as positive, negative, or neutral based on their content. This helps in understanding the \n",
    "opinion of people on social media for a variety of topics."
   ]
  },
  {
   "attachments": {},
   "cell_type": "markdown",
   "metadata": {},
   "source": [
    "In this project, I use machine learning algorithms-Logistic Regression, Naive Bayes and Decision Tree as classifier \n",
    "to analyze the sentiment of the tweets. The performance of these classifier is measured by F1_Score. The aim is to\n",
    "predict the labels on the test dataset. \n",
    "The steps involved in this machine learning problem is: \n",
    "1. Description of the Data set ---\n",
    "        (i) Import necessary libraries\n",
    "        (ii) Read and load the dataset\n",
    "2. Pre-processing of dataset ---\n",
    "        (i) Removing Twitter Handles(@user)\n",
    "        (ii) Removing Punctuation, Numbers, and Special Characters\n",
    "        (iii) Removing Short Words\n",
    "        (iv) Tokenization\n",
    "        (v) Stemming\n",
    "3. Data Visualization\n",
    "4. Extract features from cleaned tweets\n",
    "5. Split Data into Train and Test Data\n",
    "6. Build the machine learning model ---\n",
    "        (i) Logistic Regression\n",
    "        (ii) Naive Bayes Algorithm\n",
    "        (iii) Decision Tree\n",
    "7. Model Evaluation & Comparison\n",
    "------------------------------------------------------------------------------------------------------------------------------------------------------------------------------------------------------------------------------------"
   ]
  },
  {
   "cell_type": "markdown",
   "metadata": {},
   "source": []
  }
 ],
 "metadata": {
  "language_info": {
   "name": "python"
  },
  "orig_nbformat": 4
 },
 "nbformat": 4,
 "nbformat_minor": 2
}
